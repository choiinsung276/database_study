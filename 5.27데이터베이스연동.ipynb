{
 "cells": [
  {
   "cell_type": "markdown",
   "metadata": {},
   "source": [
    "## 1. 파이썬과 MYSQL 활용\n",
    "## 모듈\n",
    "    1)mysqlclient, PyMySQL\n",
    "    2)pip install mysqlclient, pip install PyMySQL"
   ]
  },
  {
   "cell_type": "markdown",
   "metadata": {},
   "source": [
    "# mysqlclient 모듈 사용"
   ]
  },
  {
   "cell_type": "code",
   "execution_count": 3,
   "metadata": {},
   "outputs": [],
   "source": [
    "import MySQLdb\n"
   ]
  },
  {
   "cell_type": "code",
   "execution_count": 10,
   "metadata": {},
   "outputs": [
    {
     "name": "stdout",
     "output_type": "stream",
     "text": [
      "<_mysql.connection open to '127.0.0.1' at 00000218D4E9C4D8>\n"
     ]
    }
   ],
   "source": [
    "# mysql 서버에 접속\n",
    "#conn= MySQLdb.connect(host = '127.0.0.1',user = 'root',password='1111',database='testdb')\n",
    "# dict변수로 담아보기\n",
    "config = {\"host\":\"127.0.0.1\",\"user\":\"root\",\"password\":\"1111\",\"database\":\"testdb\"}\n",
    "conn = MySQLdb.connect(**config)\n",
    "#매개변수가 dict일때 \n",
    "print(conn)\n",
    "conn.close()"
   ]
  },
  {
   "cell_type": "code",
   "execution_count": 17,
   "metadata": {},
   "outputs": [
    {
     "name": "stdout",
     "output_type": "stream",
     "text": [
      "<class 'MySQLdb.cursors.Cursor'>\n",
      "7369 SMITH 800.0 CLERK 20\n",
      "7499 ALLEN 1600.0 SALESMAN 30\n",
      "7521 WARD 1250.0 SALESMAN 30\n",
      "7566 JONES 2975.0 MANAGER 20\n",
      "7654 MARTIN 1250.0 SALESMAN 30\n",
      "7698 BLAKE 2850.0 MANAGER 30\n",
      "7782 CLARK 2450.0 MANAGER 10\n",
      "7788 SCOTT 3000.0 ANALYST 20\n",
      "7839 KING 5000.0 PRESIDENT 10\n",
      "7844 TURNER 1500.0 SALESMAN 30\n",
      "7876 ADAMS 1100.0 CLERK 20\n",
      "7900 JAMES 950.0 CLERK 30\n",
      "7902 FORD 3000.0 ANALYST 20\n",
      "7934 MILLER 1300.0 CLERK 10\n",
      "<MySQLdb.cursors.Cursor object at 0x00000218D547EC08>\n"
     ]
    }
   ],
   "source": [
    "conn = MySQLdb.connect(**config)\n",
    "sql = \"SELECT empno, ename, sal, job, deptno FROM emp\"\n",
    "cur = conn.cursor() #커서객체\n",
    "cur.execute(sql)\n",
    "print(type(cur))\n",
    "#커서객체 안의 데이터 확인\n",
    "#for data in cur:\n",
    "#    print(data)\n",
    "\n",
    "#unpacking\n",
    "#튜플로 묶여있는걸 풀어주는걸 언패킹\n",
    "#for data in cur:\n",
    "#    print(\"%d,%s,%d,%s,%d\"%data)\n",
    "\n",
    "#언패킹의 또다른 방법\n",
    "#for empno, ename, sal, job,deptno in cur:\n",
    "#    print(empno, ename, sal, job, deptno)\n",
    "\n",
    "#튜플데이터들을 리스트로 끌어와서 작업해도됨\n",
    "print(cur)\n",
    "conn.close()"
   ]
  },
  {
   "cell_type": "code",
   "execution_count": 18,
   "metadata": {},
   "outputs": [],
   "source": [
    "#INSERT \n",
    "\n",
    "conn = MySQLdb.connect(**config)\n",
    "cur = conn.cursor()\n",
    "\n",
    "sql = \"\"\"INSERT INTO emp(empno,ename, sal, job, mgr, deptno,hiredate)\n",
    "VALUES(1,'tom',700,'clerk',7788, 20, now())\"\"\"\n",
    "\n",
    "cur.execute(sql)\n",
    "conn.commit() \n",
    "#commit은 conn 객체가 하는거임\n",
    "# dml에서는 SELECT말고 commit으로 완료를 해줘야 작업이끝남\n",
    "conn.close()"
   ]
  },
  {
   "cell_type": "code",
   "execution_count": 24,
   "metadata": {},
   "outputs": [
    {
     "name": "stdout",
     "output_type": "stream",
     "text": [
      "INSERT INTO emp(empno, ename, sal, hiredate) VALUES(5,'Johnson',1500, now())\n"
     ]
    }
   ],
   "source": [
    "conn = MySQLdb.connect(**config)\n",
    "cur = conn.cursor()\n",
    "\n",
    "#외부로부터 가져왔다고 가정\n",
    "v_empno=5\n",
    "v_ename = 'Johnson'\n",
    "v_sal = 1500\n",
    "\n",
    "# v_empno 를 string으로 바꿔줘야됨\n",
    "#보안성 문제  명령어와 변수를 묶으면 안됨 \n",
    "#고정된 데이터 따로 변수따로 보내야됨\n",
    "sql = \"INSERT INTO emp(empno, ename, sal, hiredate) VALUES(\" + str(v_empno) + \\\n",
    "    \",'\" + v_ename + \"',\" + str(v_sal) + \", now())\"\n",
    "\n",
    "print(sql)\n",
    "\n",
    "cur.execute(sql)\n",
    "conn.commit()\n",
    "conn.close()"
   ]
  },
  {
   "cell_type": "code",
   "execution_count": 28,
   "metadata": {},
   "outputs": [],
   "source": [
    "conn = MySQLdb.connect(**config)\n",
    "cur = conn.cursor()\n",
    "\n",
    "#외부로부터 가져왔다고 가정\n",
    "v_empno=10\n",
    "v_ename = 'Johnson'\n",
    "v_sal = 1500\n",
    "\n",
    "# v_empno 를 string으로 바꿔줘야됨\n",
    "#보안성 문제  명령어와 변수를 묶으면 안됨 \n",
    "sql = \"INSERT INTO emp(empno, ename, sal, hiredate) VALUES(%s, %s, %s, now())\"\n",
    "sql_data = (str(v_empno),v_ename,str(v_sal))\n",
    "\n",
    "\n",
    "cur.execute(sql, sql_data)\n",
    "conn.commit()\n",
    "conn.close()"
   ]
  },
  {
   "cell_type": "code",
   "execution_count": 40,
   "metadata": {
    "scrolled": true
   },
   "outputs": [],
   "source": [
    "#delete\n",
    "conn = MySQLdb.connect(**config)\n",
    "cur = conn.cursor()\n",
    "\n",
    "sql = \"delete from emp where empno = 1 or empno = 5;\"\n",
    "\n",
    "cur.execute(sql)\n",
    "conn.commit()\n",
    "conn.close()"
   ]
  },
  {
   "cell_type": "markdown",
   "metadata": {},
   "source": [
    "# PyMySQL 모듈 사용"
   ]
  },
  {
   "cell_type": "code",
   "execution_count": 1,
   "metadata": {},
   "outputs": [],
   "source": [
    "import pymysql\n"
   ]
  },
  {
   "cell_type": "code",
   "execution_count": 32,
   "metadata": {},
   "outputs": [
    {
     "name": "stdout",
     "output_type": "stream",
     "text": [
      "<pymysql.connections.Connection object at 0x00000218D5572088>\n"
     ]
    }
   ],
   "source": [
    "conn = pymysql.connect(host = '127.0.0.1',user = 'root',passwd='1111',db='testdb',port = 3306,charset='utf8')\n",
    "\n",
    "print(conn)\n",
    "conn.close()\n"
   ]
  },
  {
   "cell_type": "code",
   "execution_count": 2,
   "metadata": {},
   "outputs": [
    {
     "name": "stdout",
     "output_type": "stream",
     "text": [
      "<pymysql.connections.Connection object at 0x000001A9E33C82C8>\n"
     ]
    }
   ],
   "source": [
    "config = {\"host\":\"127.0.0.1\",\"user\":\"root\",\"passwd\":\"1111\",\"db\":\"testdb\",\"port\":3306,\"charset\":\"utf8\"}\n",
    "\n",
    "conn = pymysql.connect(**config)\n",
    "print(conn)\n",
    "conn.close()"
   ]
  },
  {
   "cell_type": "code",
   "execution_count": 38,
   "metadata": {},
   "outputs": [
    {
     "name": "stdout",
     "output_type": "stream",
     "text": [
      "('bonus',)\n",
      "('dept',)\n",
      "('emp',)\n",
      "('pythontable',)\n",
      "('salgrade',)\n",
      "('tbla',)\n",
      "('tblb',)\n",
      "('tblbook',)\n",
      "('tblc',)\n",
      "('tblindex',)\n",
      "('tbltest',)\n",
      "('vw_emp1',)\n"
     ]
    }
   ],
   "source": [
    "conn = pymysql.connect(**config)\n",
    "cur = conn.cursor()\n",
    "## unsigned 양수만\n",
    "sql = \"\"\"\n",
    "    CREATE TABLE IF NOT EXISTS pythonTable(\n",
    "    id int unsigned not null auto_increment,\n",
    "    name varchar(20) not null,\n",
    "    regdate datetime,\n",
    "    primary key(id)\n",
    "    );\n",
    "\"\"\"\n",
    "cur.execute(sql)\n",
    "cur.execute(\"show tables\")\n",
    "\n",
    "for i in cur:\n",
    "    print(i)\n",
    "conn.commit()\n",
    "\n",
    "conn.close()"
   ]
  },
  {
   "cell_type": "code",
   "execution_count": 41,
   "metadata": {},
   "outputs": [],
   "source": [
    "conn = pymysql.connect(**config)\n",
    "try:\n",
    "    cur = conn.cursor()\n",
    "    sql = \"INSERT INTO pythontable(name, regdate) VALUES('tom',now());\"\n",
    "    for num in range(10):\n",
    "        cur.execute(sql)\n",
    "    \n",
    "    conn.commit()\n",
    "    \n",
    "finally:\n",
    "    conn.close()"
   ]
  },
  {
   "cell_type": "code",
   "execution_count": 13,
   "metadata": {},
   "outputs": [
    {
     "name": "stdout",
     "output_type": "stream",
     "text": [
      "<_csv.reader object at 0x000001A9E3499668>\n",
      "['A', '001-1001', '2341', '500000', datetime.datetime(2014, 1, 20, 0, 0)]\n",
      "['A', '001-1002', '2341', '500000', datetime.datetime(2014, 1, 20, 0, 0)]\n",
      "['A', '001-1003', '5467', '750000', datetime.datetime(2014, 1, 20, 0, 0)]\n",
      "['A', '001-1004', '5467', '750000', datetime.datetime(2014, 1, 20, 0, 0)]\n",
      "['B', '001-1005', '7009', '250000', datetime.datetime(2018, 1, 30, 0, 0)]\n",
      "['B', '001-1006', '7009', '250000', datetime.datetime(2018, 1, 30, 0, 0)]\n",
      "['B', '001-1007', '6650', '125000', datetime.datetime(2017, 2, 3, 0, 0)]\n",
      "['B', '001-1008', '6650', '125000', datetime.datetime(2017, 2, 3, 0, 0)]\n",
      "['C', '001-1009', '3321', '615000', datetime.datetime(2017, 2, 3, 0, 0)]\n",
      "['C', '001-1010', '3321', '615000', datetime.datetime(2017, 2, 10, 0, 0)]\n",
      "['C', '001-1011', '3321', '615000', datetime.datetime(2017, 2, 17, 0, 0)]\n",
      "['C', '001-1012', '3321', '615000', datetime.datetime(2017, 2, 24, 0, 0)]\n"
     ]
    }
   ],
   "source": [
    "#CSV 파일을 DB에 저장하기 \n",
    "\"\"\"\n",
    "CREATE TABLE IF NOT EXISTS suppliers(\n",
    "    Supplier_Name    varchar(20),\n",
    "    Invoice_Number   varchar(20),\n",
    "    Part_Number      varchar(20),\n",
    "    Cost             float,\n",
    "    Purchase_Date    date\n",
    ");\n",
    "\"\"\"\n",
    "from datetime import datetime\n",
    "import csv\n",
    "conn = pymysql.connect(**config)\n",
    "cur = conn.cursor()\n",
    "sql = \"\"\"\n",
    "CREATE TABLE IF NOT EXISTS suppliers(\n",
    "    Supplier_Name    varchar(20),\n",
    "    Invoice_Number   varchar(20),\n",
    "    Part_Number      varchar(20),\n",
    "    Cost             float,\n",
    "    Purchase_Date    date\n",
    ");\n",
    "\"\"\"\n",
    "cur.execute(sql)\n",
    "\n",
    "try:\n",
    "    \n",
    "    #csv 모듈의 함수 open 함수- reader, readline 한줄이나 한번에 읽는건대 csv.reader는 콤마를 읽을 수 있음\n",
    "    file = csv.reader(open(\"input.csv\"))\n",
    "    print(file)\n",
    "    #print(next(file))\n",
    "    header = next(file)\n",
    "    # db의 Purchase Date는  날짜형식으로 전달해야함 string말고\n",
    "    # 필드의 개수를 알기위해 header 변수 활용\n",
    "    for row in file:\n",
    "        data = []\n",
    "        for col in range(len(header)):\n",
    "            # 0~ 3필드까지는 그냥 넣고 4번째 필드 date필드에서는 형변환해야함\n",
    "            #Y 4글자년도 y2글자 년도\n",
    "            if col == 4:\n",
    "                tmp = datetime.strptime(row[col],\"%Y-%m-%d\")\n",
    "                data.append(tmp)\n",
    "            else:\n",
    "                data.append(row[col])\n",
    "            # Strptime Strftime \n",
    "        print(data)\n",
    "        cur.execute(\"INSERT INTO suppliers VALUES(%s,%s,%s,%s,%s)\",data)\n",
    "    \n",
    "    conn.commit()\n",
    "    \n",
    "finally:\n",
    "    conn.close()"
   ]
  },
  {
   "cell_type": "code",
   "execution_count": 14,
   "metadata": {},
   "outputs": [
    {
     "name": "stderr",
     "output_type": "stream",
     "text": [
      "C:\\Users\\acorn\\Anaconda3\\lib\\site-packages\\pymysql\\cursors.py:170: Warning: (1050, \"Table 'suppliers' already exists\")\n",
      "  result = self._query(query)\n"
     ]
    }
   ],
   "source": [
    "conn = pymysql.connect(**config)\n",
    "cur = conn.cursor()\n",
    "sql = \"\"\"\n",
    "CREATE TABLE IF NOT EXISTS suppliers(\n",
    "    Supplier_Name    varchar(20),\n",
    "    Invoice_Number   varchar(20),\n",
    "    Part_Number      varchar(20),\n",
    "    Cost             float,\n",
    "    Purchase_Date    date\n",
    ");\n",
    "\"\"\"\n",
    "cur.execute(sql)\n",
    "\n",
    "try:\n",
    "    \n",
    "    #csv 모듈의 함수 open 함수- reader, readline 한줄이나 한번에 읽는건대 csv.reader는 콤마를 읽을 수 있음\n",
    "    file = csv.reader(open(\"input.csv\"))\n",
    "    #print(file)\n",
    "    #print(next(file))\n",
    "    header = next(file)\n",
    "    sql = \"delete from suppliers\"\n",
    "    cur.execute(sql)\n",
    "    conn.commit()\n",
    "    for row in file:\n",
    "        cur.execute(\"INSERT INTO suppliers VALUES(%s,%s,%s,%s,%s)\",row)\n",
    "    \n",
    "    # db의 Purchase Date는  날짜형식으로 전달해야함 string말고\n",
    "    # 필드의 개수를 알기위해 header 변수 활용\n",
    "  #  for row in file:\n",
    "  #      data = []\n",
    "  #      for col in range(len(header)):\n",
    "            # 0~ 3필드까지는 그냥 넣고 4번째 필드 date필드에서는 형변환해야함\n",
    "            #Y 4글자년도 y2글자 년도\n",
    "  #          if col == 4:\n",
    "  #              tmp = datetime.strptime(row[col],\"%Y-%m-%d\")\n",
    "  #              data.append(tmp)\n",
    "  #          else:\n",
    "  #              data.append(row[col])\n",
    "  #          # Strptime Strftime \n",
    "  #      print(data)\n",
    "   #     cur.execute(\"INSERT INTO suppliers VALUES(%s,%s,%s,%s,%s)\",data)\n",
    "    \n",
    "    conn.commit()\n",
    "    \n",
    "finally:\n",
    "    conn.close()"
   ]
  },
  {
   "cell_type": "markdown",
   "metadata": {},
   "source": [
    "# db에서 읽어서 파일 읽어서 저장"
   ]
  },
  {
   "cell_type": "code",
   "execution_count": 20,
   "metadata": {},
   "outputs": [],
   "source": [
    "conn = pymysql.connect(**config)\n",
    "try:\n",
    "    cur = conn.cursor()\n",
    "    \n",
    "    cur.execute(\"SELECT * FROM suppliers WHERE cost>500000\")\n",
    "    # for i in cur : print(i)           # sql로 데이터들 확인\n",
    "    file = csv.writer(open(\"output.csv\",\"w\"),delimiter=\",\")\n",
    "    header = [\"Supplier Name\",\"Invoice Name\",\"Part Number\",\"Cost\",\"Purchase Date\"]\n",
    "    file.writerow(header)\n",
    "    \n",
    "    for row in cur:\n",
    "        file.writerow(row)\n",
    "finally:\n",
    "    conn.close()"
   ]
  },
  {
   "cell_type": "markdown",
   "metadata": {},
   "source": [
    "# 2. 파이썬과 SQLite\n",
    "    1. 로컬 DB ( 네트워크 기능이 없음 하나의 컴퓨터안에서만 할수있는)\n",
    "     로컬 DB 제품이 많음 - Access, -SQLite, -Microsoft SQL Server Compact Edition\n",
    "     -Firebird Embeded Server -H2 -HSQL -Apache Derby\n",
    "    2. 특징\n",
    "        1) 파일기반의 DBMS , 저메모리, 빠른 처리 속도\n",
    "        2) 오픈 소스 \n",
    "        3) 별도의 DB서버가 없어도 쉽고 편리하게 사용할 수 있는 Embeded SQL DB엔진\n",
    "        4) 안드로이드, 아이폰 등의 스마트폰에 기본 내장된 DB\n",
    "        5) 표준 SQL 지원\n",
    "        6) 파이썬에 내장\n",
    "        ---------------\n",
    "        7) 칼럼을 삭제하거나 변경하는 것 등이 제한\n",
    "        8) Left Outer Join만 지원 \n",
    "        9) 읽기 전용 뷰만 제공 \n",
    "    3. 공식 사이트 : http://sqlite.org\n",
    "    4. 클라이언트 툴 \n",
    "        - http://www.sqliteexpert.com"
   ]
  },
  {
   "cell_type": "code",
   "execution_count": 21,
   "metadata": {},
   "outputs": [
    {
     "data": {
      "text/plain": [
       "\"\\nINSERT INTO tblmember VALUES(1,'홍길동','2020-5-5')\\nINSERT INTO tblmember VALUES(1,'임꺽정',date('now'))\\n\""
      ]
     },
     "execution_count": 21,
     "metadata": {},
     "output_type": "execute_result"
    }
   ],
   "source": [
    "# sqlitexpert를 이용해서 db생성 : mysqlite.db\n",
    "\"\"\"\n",
    "CREATE TABLE tblmember(\n",
    "    id int,\n",
    "    name varchar(10),\n",
    "    regdate datetime\n",
    ");\n",
    "\"\"\"\n",
    "\n",
    "\"\"\"\n",
    "INSERT INTO tblmember VALUES(1,'홍길동','2020-5-5')\n",
    "INSERT INTO tblmember VALUES(1,'임꺽정',date('now'))\n",
    "\"\"\""
   ]
  },
  {
   "cell_type": "code",
   "execution_count": 23,
   "metadata": {},
   "outputs": [
    {
     "name": "stdout",
     "output_type": "stream",
     "text": [
      "2.6.0\n",
      "3.31.1\n"
     ]
    }
   ],
   "source": [
    "import sqlite3\n",
    "\n",
    "print(sqlite3.version)\n",
    "print(sqlite3.sqlite_version)"
   ]
  },
  {
   "cell_type": "code",
   "execution_count": 29,
   "metadata": {},
   "outputs": [
    {
     "name": "stdout",
     "output_type": "stream",
     "text": [
      "(1, '홍길동', '2020-5-5')\n",
      "(1, '임꺽정', '2020-05-28')\n",
      "(2, '루루라', '2020-5-4')\n"
     ]
    }
   ],
   "source": [
    "conn = sqlite3.connect(\"mysqlite.db\")\n",
    "cur = conn.cursor()\n",
    "\n",
    "cur.execute(\"INSERT INTO tblmember VALUES(2,'루루라','2020-5-4')\")\n",
    "cur.execute(\"SELECT * FROM tblmember\")\n",
    "for row in cur:\n",
    "    print(row)\n",
    "conn.commit()\n",
    "conn.close()"
   ]
  },
  {
   "cell_type": "markdown",
   "metadata": {},
   "source": [
    "# csv 파일 읽어서 sqlite에 넣기"
   ]
  },
  {
   "cell_type": "code",
   "execution_count": null,
   "metadata": {},
   "outputs": [],
   "source": [
    "import csv\n",
    "file = csv.reader(open(\"input.csv\"),delimiter =',')\n",
    "header = next(file)\n",
    "\n",
    "conn = sqlite3.connect(\"mysqlite.db\")\n",
    "cur = conn.cursor()\n",
    "sql =  \"\"\"\n",
    "CREATE TABLE IF NOT EXISTS suppliers(\n",
    "    Supplier_Name    varchar(20),\n",
    "    Invoice_Number   varchar(20),\n",
    "    Part_Number      varchar(20),\n",
    "    Cost             float,\n",
    "    Purchase_Date    date\n",
    ");\n",
    "\"\"\"\n",
    "cur.execute(sql)\n",
    "for row in file:\n",
    "    cur.execute(\"INSERT INTO suppliers VALUES(?,?,?,?,?)\",row)\n",
    "\n",
    "for row in cur:\n",
    "    print(row)\n",
    "conn.commit()\n",
    "conn.close()"
   ]
  },
  {
   "cell_type": "markdown",
   "metadata": {},
   "source": [
    "# 메모리 DB\n",
    "\n",
    "# Text 타입 (글을 많이쓸떄) "
   ]
  },
  {
   "cell_type": "code",
   "execution_count": 40,
   "metadata": {},
   "outputs": [
    {
     "data": {
      "text/plain": [
       "<sqlite3.Cursor at 0x1a9e34cf490>"
      ]
     },
     "execution_count": 40,
     "metadata": {},
     "output_type": "execute_result"
    }
   ],
   "source": [
    "\n",
    "conn=sqlite3.connect(\":memory:\")\n",
    "cur = conn.cursor()\n",
    "#print(cur)\n",
    "cur.execute(\"CREATE TABLE phonebook(name text,phonenum varchar(20));\")\n",
    "cur.execute(\"INSERT INTO phonebook VALUES(?,?);\",(\"tom\",\"010-222-222\"))"
   ]
  },
  {
   "cell_type": "code",
   "execution_count": 42,
   "metadata": {},
   "outputs": [
    {
     "name": "stdout",
     "output_type": "stream",
     "text": [
      "('tom', '010-222-222')\n"
     ]
    }
   ],
   "source": [
    "cur.execute(\"select * from phonebook\")\n",
    "#fetchmany(n) n번 까지\n",
    "for i in cur:\n",
    "    print(i)\n",
    "    \n",
    "for i in cur.fetchmany(3):\n",
    "    print(i)"
   ]
  },
  {
   "cell_type": "markdown",
   "metadata": {},
   "source": [
    "# 입력데이터 인자를 변수명 처리\n"
   ]
  },
  {
   "cell_type": "code",
   "execution_count": 45,
   "metadata": {},
   "outputs": [
    {
     "data": {
      "text/plain": [
       "<sqlite3.Cursor at 0x1a9e34cf490>"
      ]
     },
     "execution_count": 45,
     "metadata": {},
     "output_type": "execute_result"
    }
   ],
   "source": [
    "sql = \"INSERT INTO phonebook VALUES(:vName,:vPhone)\"\n",
    "cur.execute(sql,{\"vPhone\":\"010-222-3333\",\"vName\":\"Johnson\"})"
   ]
  },
  {
   "cell_type": "code",
   "execution_count": 46,
   "metadata": {},
   "outputs": [
    {
     "data": {
      "text/plain": [
       "<sqlite3.Cursor at 0x1a9e34cf490>"
      ]
     },
     "execution_count": 46,
     "metadata": {},
     "output_type": "execute_result"
    }
   ],
   "source": [
    "#여러 개의 데이터를 한번에 처리\n",
    "#executemany() 함수 자동으로 처리\n",
    "datalist = (('jane','010-333-3333'),('sam','010-233-3333'),('paul','010-433-3333'))\n",
    "cur.executemany(\"INSERT INTO phonebook VALUES(?,?)\",datalist)"
   ]
  },
  {
   "cell_type": "code",
   "execution_count": 48,
   "metadata": {},
   "outputs": [],
   "source": [
    "# 작업한 내용을 스크립트로 저장\n",
    "f = open(\"data/dump.sql\",\"w\")\n",
    "for line in conn.iterdump():\n",
    "    #print(line)\n",
    "    f.write(\"{}\\n\".format(line))\n",
    "    \n",
    "f.close()\n",
    "conn.close()"
   ]
  },
  {
   "cell_type": "code",
   "execution_count": 52,
   "metadata": {},
   "outputs": [
    {
     "name": "stdout",
     "output_type": "stream",
     "text": [
      "('tom', '010-222-222')\n",
      "('Johnson', '010-222-3333')\n",
      "('jane', '010-333-3333')\n"
     ]
    }
   ],
   "source": [
    "# 스크립트를 저장해야함\n",
    "conn=sqlite3.connect(\":memory:\")\n",
    "cur = conn.cursor()\n",
    "\n",
    "f = open(\"data/dump.sql\")\n",
    "script = f.read()\n",
    "#print(script)\n",
    "\n",
    "cur.executescript(script)\n",
    "\n",
    "cur.execute(\"select * from phonebook\")\n",
    "for i in cur.fetchmany(3):\n",
    "    print(i)\n",
    "\n",
    "f.close()\n",
    "conn.close()"
   ]
  },
  {
   "cell_type": "code",
   "execution_count": null,
   "metadata": {},
   "outputs": [],
   "source": []
  }
 ],
 "metadata": {
  "kernelspec": {
   "display_name": "Python 3",
   "language": "python",
   "name": "python3"
  },
  "language_info": {
   "codemirror_mode": {
    "name": "ipython",
    "version": 3
   },
   "file_extension": ".py",
   "mimetype": "text/x-python",
   "name": "python",
   "nbconvert_exporter": "python",
   "pygments_lexer": "ipython3",
   "version": "3.7.6"
  }
 },
 "nbformat": 4,
 "nbformat_minor": 4
}
