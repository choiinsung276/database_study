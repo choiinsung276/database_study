{
 "cells": [
  {
   "cell_type": "markdown",
   "metadata": {},
   "source": [
    "# 3.Mongo DB와 연동\n",
    "  ## pip install pymongo\n",
    "  \n",
    "  https://pymongo.readthedocs.io/en/stable/"
   ]
  },
  {
   "cell_type": "code",
   "execution_count": 4,
   "metadata": {},
   "outputs": [],
   "source": [
    "from pymongo import MongoClient\n"
   ]
  },
  {
   "cell_type": "markdown",
   "metadata": {},
   "source": [
    "## conn = pymongo.MongoClient(\"127.0.0.1\",27017)\n",
    "## 2가지 형식 db만들기 방법\n",
    "## db = conn[\"testdb\"]\n",
    "##  db = conn.testdb     \n"
   ]
  },
  {
   "cell_type": "code",
   "execution_count": 11,
   "metadata": {},
   "outputs": [
    {
     "name": "stdout",
     "output_type": "stream",
     "text": [
      "Collection(Database(MongoClient(host=['127.0.0.1:27017'], document_class=dict, tz_aware=False, connect=True), 'testdb'), 'articles')\n"
     ]
    }
   ],
   "source": [
    "# conn = MongoClient('localhost', 27017)\n",
    "#conn = pymongo.MongoClient(\"127.0.0.1\",27017)\n",
    "# 주소와, 포트번호\n",
    "conn = MongoClient(\"127.0.0.1\",27017)\n",
    "# conn = MongoClient(\"mongodb://127.0.0.1:27017\")\n",
    "\n",
    "# db = conn.testdb\n",
    "#print(db)\n",
    "\n",
    "db = conn[\"testdb\"]\n",
    "#coll = db.articles\n",
    "coll = db.get_collection(\"articles\")\n",
    "print(coll)\n",
    "# db = conn[\"testdb\"]\n",
    "#print(conn)\n",
    "conn.close()"
   ]
  },
  {
   "cell_type": "markdown",
   "metadata": {},
   "source": [
    "\n",
    "- db.컬렉션명  = 변수 \n",
    "- print(변수) - articles 컬렉션 형식 보여줌 \n",
    "- 컬렉션 만드는방법 2가지 방법\n",
    "- 변수 = db.get_collection(\"컬렉션명\")\n",
    "- 변수(컬렉션).count() 컬렉션 도큐먼트개수\n",
    " ## 데이터 추가방법\n",
    " - 컬렉션변수.insert_one(데이터)\n",
    " - inserted_id id도같이 "
   ]
  },
  {
   "cell_type": "code",
   "execution_count": 15,
   "metadata": {},
   "outputs": [
    {
     "name": "stdout",
     "output_type": "stream",
     "text": [
      "7\n",
      "5ed0bdedbb1b39c21890af07\n"
     ]
    },
    {
     "name": "stderr",
     "output_type": "stream",
     "text": [
      "C:\\Users\\acorn\\Anaconda3\\lib\\site-packages\\ipykernel_launcher.py:4: DeprecationWarning: count is deprecated. Use estimated_document_count or count_documents instead. Please note that $where must be replaced by $expr, $near must be replaced by $geoWithin with $center, and $nearSphere must be replaced by $geoWithin with $centerSphere\n",
      "  after removing the cwd from sys.path.\n"
     ]
    }
   ],
   "source": [
    "conn = MongoClient(\"127.0.0.1\",27017)\n",
    "db = conn[\"testdb\"]\n",
    "coll = db.people\n",
    "print(coll.count())\n",
    "\n",
    "data = {\"author\":\"Mike\",\"text\":\"myfirst blog post!\",\"tag\":[\"mongodb\",\"python\"]}\n",
    "#coll.insert_one(data)\n",
    "post_id = coll.insert_one(data).inserted_id\n",
    "print(post_id)\n",
    "\n",
    "conn.close()"
   ]
  },
  {
   "cell_type": "markdown",
   "metadata": {},
   "source": [
    "## 여러개 도큐먼트 입력하는 방법\n",
    "- 컬렉션명.insert_many()\n",
    "\n"
   ]
  },
  {
   "cell_type": "code",
   "execution_count": 16,
   "metadata": {},
   "outputs": [
    {
     "name": "stdout",
     "output_type": "stream",
     "text": [
      "8\n"
     ]
    },
    {
     "name": "stderr",
     "output_type": "stream",
     "text": [
      "C:\\Users\\acorn\\Anaconda3\\lib\\site-packages\\ipykernel_launcher.py:5: DeprecationWarning: count is deprecated. Use estimated_document_count or count_documents instead. Please note that $where must be replaced by $expr, $near must be replaced by $geoWithin with $center, and $nearSphere must be replaced by $geoWithin with $centerSphere\n",
      "  \"\"\"\n"
     ]
    }
   ],
   "source": [
    "conn = MongoClient(\"127.0.0.1\",27017)\n",
    "db = conn[\"testdb\"]\n",
    "coll = db.people\n",
    "\n",
    "print(coll.count())\n",
    "\n",
    "coll.insert_many([{\"number\":i} for i in range(10)])\n",
    "\n",
    "#data = []\n",
    "#for i in range(10):\n",
    "# temp = {\"number\": i}\n",
    "# data.append(temp)\n",
    "# coll.insert_many(data)\n",
    "\n",
    "conn.close()"
   ]
  },
  {
   "cell_type": "markdown",
   "metadata": {},
   "source": [
    "## 조회\n",
    "- 컬렉션변수명.find()\n",
    "- 조건이 있는 조회 for문돌려서\n",
    "- 하나의 도큐먼트만 조회 find_one()"
   ]
  },
  {
   "cell_type": "code",
   "execution_count": 21,
   "metadata": {},
   "outputs": [
    {
     "name": "stdout",
     "output_type": "stream",
     "text": [
      "{'_id': ObjectId('5ed0bcabbb1b39c21890af03'), 'author': 'Mike', 'text': 'myfirst blog post!', 'tag': ['mongodb', 'python']}\n"
     ]
    }
   ],
   "source": [
    "conn = MongoClient(\"127.0.0.1\",27017)\n",
    "db = conn[\"testdb\"]\n",
    "coll = db.people\n",
    "\n",
    "#for i in coll.find():\n",
    "#    print(i)\n",
    "# 20살인 도큐먼트 조회\n",
    "#for i in coll.find({\"age\":20}):\n",
    "#    print(i)\n",
    "\n",
    "#20살 이상인 도큐먼트 조회\n",
    "#for i in coll.find({\"age\":{\"$gte\":20}}):\n",
    "#    print(i)\n",
    "\n",
    "print(coll.find_one({\"author\":\"Mike\"}))\n",
    "    \n",
    "    \n",
    "conn.close()"
   ]
  },
  {
   "cell_type": "code",
   "execution_count": 23,
   "metadata": {},
   "outputs": [
    {
     "name": "stdout",
     "output_type": "stream",
     "text": [
      "{'_id': ObjectId('5ed0bcabbb1b39c21890af03'), 'author': 'Mike', 'text': 'my third blog post', 'tag': ['mongodb', 'python']}\n"
     ]
    }
   ],
   "source": [
    "# 데이터 수정 \n",
    "\n",
    "conn = MongoClient(\"127.0.0.1\",27017)\n",
    "db = conn[\"testdb\"]\n",
    "coll = db.people\n",
    "\n",
    "coll.update_one({\"author\":\"Mike\"},{\"$set\":{\"text\":\"my third blog post\"}})\n",
    "\n",
    "print(coll.find_one({\"author\":\"Mike\"}))\n",
    "\n",
    "conn.close()"
   ]
  },
  {
   "cell_type": "code",
   "execution_count": null,
   "metadata": {},
   "outputs": [],
   "source": []
  }
 ],
 "metadata": {
  "kernelspec": {
   "display_name": "Python 3",
   "language": "python",
   "name": "python3"
  },
  "language_info": {
   "codemirror_mode": {
    "name": "ipython",
    "version": 3
   },
   "file_extension": ".py",
   "mimetype": "text/x-python",
   "name": "python",
   "nbconvert_exporter": "python",
   "pygments_lexer": "ipython3",
   "version": "3.7.6"
  }
 },
 "nbformat": 4,
 "nbformat_minor": 4
}
